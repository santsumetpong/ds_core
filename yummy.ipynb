{
 "cells": [
  {
   "cell_type": "code",
   "execution_count": 1,
   "id": "1ddb4925",
   "metadata": {},
   "outputs": [
    {
     "name": "stderr",
     "output_type": "stream",
     "text": [
      "/Users/sant/anaconda3/lib/python3.11/site-packages/pandas/core/arrays/masked.py:60: UserWarning: Pandas requires version '1.3.6' or newer of 'bottleneck' (version '1.3.5' currently installed).\n",
      "  from pandas.core import (\n"
     ]
    },
    {
     "name": "stdout",
     "output_type": "stream",
     "text": [
      "loading successful\n"
     ]
    }
   ],
   "source": [
    "import torch\n",
    "import numpy as np\n",
    "import pandas as pd\n",
    "import matplotlib.pyplot as plt\n",
    "import sklearn\n",
    "import requests as req\n",
    "from alpha_vantage.timeseries import TimeSeries as ts\n",
    "import seaborn as sns\n",
    "import io\n",
    "\n",
    "print(\"loading successful\")"
   ]
  },
  {
   "cell_type": "code",
   "execution_count": 2,
   "id": "d1d438fb",
   "metadata": {},
   "outputs": [],
   "source": [
    "api_key = open('avkey.txt').read()"
   ]
  },
  {
   "cell_type": "code",
   "execution_count": 3,
   "id": "0ad1a664",
   "metadata": {},
   "outputs": [],
   "source": [
    "def get_stock_data(symbol, interval='daily', output_size='full'):\n",
    "    url = f'https://www.alphavantage.co/query?function=TIME_SERIES_{interval.upper()}&symbol={symbol}&outputsize={output_size}&apikey={api_key}&datatype=csv'\n",
    "    response = req.get(url)\n",
    "    data = response.content.decode('utf-8')\n",
    "    df = pd.read_csv(io.StringIO(data))\n",
    "    return df"
   ]
  },
  {
   "cell_type": "code",
   "execution_count": 4,
   "id": "719c4181",
   "metadata": {},
   "outputs": [
    {
     "data": {
      "text/html": [
       "<div>\n",
       "<style scoped>\n",
       "    .dataframe tbody tr th:only-of-type {\n",
       "        vertical-align: middle;\n",
       "    }\n",
       "\n",
       "    .dataframe tbody tr th {\n",
       "        vertical-align: top;\n",
       "    }\n",
       "\n",
       "    .dataframe thead th {\n",
       "        text-align: right;\n",
       "    }\n",
       "</style>\n",
       "<table border=\"1\" class=\"dataframe\">\n",
       "  <thead>\n",
       "    <tr style=\"text-align: right;\">\n",
       "      <th></th>\n",
       "      <th>timestamp</th>\n",
       "      <th>open</th>\n",
       "      <th>high</th>\n",
       "      <th>low</th>\n",
       "      <th>close</th>\n",
       "      <th>volume</th>\n",
       "    </tr>\n",
       "  </thead>\n",
       "  <tbody>\n",
       "    <tr>\n",
       "      <th>0</th>\n",
       "      <td>2024-10-14</td>\n",
       "      <td>228.70</td>\n",
       "      <td>231.73</td>\n",
       "      <td>228.60</td>\n",
       "      <td>231.30</td>\n",
       "      <td>38813987</td>\n",
       "    </tr>\n",
       "    <tr>\n",
       "      <th>1</th>\n",
       "      <td>2024-10-11</td>\n",
       "      <td>229.30</td>\n",
       "      <td>229.41</td>\n",
       "      <td>227.34</td>\n",
       "      <td>227.55</td>\n",
       "      <td>31759188</td>\n",
       "    </tr>\n",
       "    <tr>\n",
       "      <th>2</th>\n",
       "      <td>2024-10-10</td>\n",
       "      <td>227.78</td>\n",
       "      <td>229.50</td>\n",
       "      <td>227.17</td>\n",
       "      <td>229.04</td>\n",
       "      <td>28183544</td>\n",
       "    </tr>\n",
       "    <tr>\n",
       "      <th>3</th>\n",
       "      <td>2024-10-09</td>\n",
       "      <td>225.23</td>\n",
       "      <td>229.75</td>\n",
       "      <td>224.83</td>\n",
       "      <td>229.54</td>\n",
       "      <td>33591091</td>\n",
       "    </tr>\n",
       "    <tr>\n",
       "      <th>4</th>\n",
       "      <td>2024-10-08</td>\n",
       "      <td>224.30</td>\n",
       "      <td>225.98</td>\n",
       "      <td>223.25</td>\n",
       "      <td>225.77</td>\n",
       "      <td>31855693</td>\n",
       "    </tr>\n",
       "    <tr>\n",
       "      <th>5</th>\n",
       "      <td>2024-10-07</td>\n",
       "      <td>224.50</td>\n",
       "      <td>225.69</td>\n",
       "      <td>221.33</td>\n",
       "      <td>221.69</td>\n",
       "      <td>39505354</td>\n",
       "    </tr>\n",
       "    <tr>\n",
       "      <th>6</th>\n",
       "      <td>2024-10-04</td>\n",
       "      <td>227.90</td>\n",
       "      <td>228.00</td>\n",
       "      <td>224.13</td>\n",
       "      <td>226.80</td>\n",
       "      <td>37345098</td>\n",
       "    </tr>\n",
       "  </tbody>\n",
       "</table>\n",
       "</div>"
      ],
      "text/plain": [
       "    timestamp    open    high     low   close    volume\n",
       "0  2024-10-14  228.70  231.73  228.60  231.30  38813987\n",
       "1  2024-10-11  229.30  229.41  227.34  227.55  31759188\n",
       "2  2024-10-10  227.78  229.50  227.17  229.04  28183544\n",
       "3  2024-10-09  225.23  229.75  224.83  229.54  33591091\n",
       "4  2024-10-08  224.30  225.98  223.25  225.77  31855693\n",
       "5  2024-10-07  224.50  225.69  221.33  221.69  39505354\n",
       "6  2024-10-04  227.90  228.00  224.13  226.80  37345098"
      ]
     },
     "execution_count": 4,
     "metadata": {},
     "output_type": "execute_result"
    }
   ],
   "source": [
    "symbol = 'AAPL'\n",
    "stock_data = get_stock_data(symbol, interval='daily', output_size='full')\n",
    "stock_data.head(7)"
   ]
  },
  {
   "cell_type": "code",
   "execution_count": 5,
   "id": "94f57b21",
   "metadata": {},
   "outputs": [
    {
     "data": {
      "text/html": [
       "<div>\n",
       "<style scoped>\n",
       "    .dataframe tbody tr th:only-of-type {\n",
       "        vertical-align: middle;\n",
       "    }\n",
       "\n",
       "    .dataframe tbody tr th {\n",
       "        vertical-align: top;\n",
       "    }\n",
       "\n",
       "    .dataframe thead th {\n",
       "        text-align: right;\n",
       "    }\n",
       "</style>\n",
       "<table border=\"1\" class=\"dataframe\">\n",
       "  <thead>\n",
       "    <tr style=\"text-align: right;\">\n",
       "      <th></th>\n",
       "      <th>open</th>\n",
       "      <th>high</th>\n",
       "      <th>low</th>\n",
       "      <th>close</th>\n",
       "      <th>volume</th>\n",
       "    </tr>\n",
       "  </thead>\n",
       "  <tbody>\n",
       "    <tr>\n",
       "      <th>count</th>\n",
       "      <td>6278.000000</td>\n",
       "      <td>6278.000000</td>\n",
       "      <td>6278.000000</td>\n",
       "      <td>6278.000000</td>\n",
       "      <td>6.278000e+03</td>\n",
       "    </tr>\n",
       "    <tr>\n",
       "      <th>mean</th>\n",
       "      <td>174.184031</td>\n",
       "      <td>176.111269</td>\n",
       "      <td>172.158361</td>\n",
       "      <td>174.194251</td>\n",
       "      <td>3.312505e+07</td>\n",
       "    </tr>\n",
       "    <tr>\n",
       "      <th>std</th>\n",
       "      <td>147.173143</td>\n",
       "      <td>148.385986</td>\n",
       "      <td>145.761517</td>\n",
       "      <td>147.109716</td>\n",
       "      <td>3.058917e+07</td>\n",
       "    </tr>\n",
       "    <tr>\n",
       "      <th>min</th>\n",
       "      <td>12.990000</td>\n",
       "      <td>13.190000</td>\n",
       "      <td>12.720000</td>\n",
       "      <td>13.120000</td>\n",
       "      <td>7.025000e+05</td>\n",
       "    </tr>\n",
       "    <tr>\n",
       "      <th>25%</th>\n",
       "      <td>78.292500</td>\n",
       "      <td>79.455000</td>\n",
       "      <td>76.905000</td>\n",
       "      <td>78.222500</td>\n",
       "      <td>1.207345e+07</td>\n",
       "    </tr>\n",
       "    <tr>\n",
       "      <th>50%</th>\n",
       "      <td>138.970000</td>\n",
       "      <td>140.725050</td>\n",
       "      <td>136.915000</td>\n",
       "      <td>138.985000</td>\n",
       "      <td>2.460056e+07</td>\n",
       "    </tr>\n",
       "    <tr>\n",
       "      <th>75%</th>\n",
       "      <td>201.890000</td>\n",
       "      <td>204.270000</td>\n",
       "      <td>199.645000</td>\n",
       "      <td>202.385000</td>\n",
       "      <td>4.432081e+07</td>\n",
       "    </tr>\n",
       "    <tr>\n",
       "      <th>max</th>\n",
       "      <td>702.410000</td>\n",
       "      <td>705.070000</td>\n",
       "      <td>699.570000</td>\n",
       "      <td>702.100000</td>\n",
       "      <td>3.326072e+08</td>\n",
       "    </tr>\n",
       "  </tbody>\n",
       "</table>\n",
       "</div>"
      ],
      "text/plain": [
       "              open         high          low        close        volume\n",
       "count  6278.000000  6278.000000  6278.000000  6278.000000  6.278000e+03\n",
       "mean    174.184031   176.111269   172.158361   174.194251  3.312505e+07\n",
       "std     147.173143   148.385986   145.761517   147.109716  3.058917e+07\n",
       "min      12.990000    13.190000    12.720000    13.120000  7.025000e+05\n",
       "25%      78.292500    79.455000    76.905000    78.222500  1.207345e+07\n",
       "50%     138.970000   140.725050   136.915000   138.985000  2.460056e+07\n",
       "75%     201.890000   204.270000   199.645000   202.385000  4.432081e+07\n",
       "max     702.410000   705.070000   699.570000   702.100000  3.326072e+08"
      ]
     },
     "execution_count": 5,
     "metadata": {},
     "output_type": "execute_result"
    }
   ],
   "source": [
    "stock_data.describe()"
   ]
  },
  {
   "cell_type": "code",
   "execution_count": 6,
   "id": "7393cb65",
   "metadata": {},
   "outputs": [
    {
     "name": "stdout",
     "output_type": "stream",
     "text": [
      "<class 'pandas.core.frame.DataFrame'>\n",
      "RangeIndex: 6278 entries, 0 to 6277\n",
      "Data columns (total 6 columns):\n",
      " #   Column     Non-Null Count  Dtype  \n",
      "---  ------     --------------  -----  \n",
      " 0   timestamp  6278 non-null   object \n",
      " 1   open       6278 non-null   float64\n",
      " 2   high       6278 non-null   float64\n",
      " 3   low        6278 non-null   float64\n",
      " 4   close      6278 non-null   float64\n",
      " 5   volume     6278 non-null   int64  \n",
      "dtypes: float64(4), int64(1), object(1)\n",
      "memory usage: 294.4+ KB\n"
     ]
    }
   ],
   "source": [
    "stock_data.info()"
   ]
  },
  {
   "cell_type": "code",
   "execution_count": 7,
   "id": "08ccdbab",
   "metadata": {},
   "outputs": [
    {
     "data": {
      "text/html": [
       "<div>\n",
       "<style scoped>\n",
       "    .dataframe tbody tr th:only-of-type {\n",
       "        vertical-align: middle;\n",
       "    }\n",
       "\n",
       "    .dataframe tbody tr th {\n",
       "        vertical-align: top;\n",
       "    }\n",
       "\n",
       "    .dataframe thead th {\n",
       "        text-align: right;\n",
       "    }\n",
       "</style>\n",
       "<table border=\"1\" class=\"dataframe\">\n",
       "  <thead>\n",
       "    <tr style=\"text-align: right;\">\n",
       "      <th></th>\n",
       "      <th>open</th>\n",
       "      <th>high</th>\n",
       "      <th>low</th>\n",
       "      <th>close</th>\n",
       "      <th>volume</th>\n",
       "    </tr>\n",
       "    <tr>\n",
       "      <th>timestamp</th>\n",
       "      <th></th>\n",
       "      <th></th>\n",
       "      <th></th>\n",
       "      <th></th>\n",
       "      <th></th>\n",
       "    </tr>\n",
       "  </thead>\n",
       "  <tbody>\n",
       "    <tr>\n",
       "      <th>1999-11-01</th>\n",
       "      <td>80.00</td>\n",
       "      <td>80.69</td>\n",
       "      <td>77.37</td>\n",
       "      <td>77.62</td>\n",
       "      <td>2487300</td>\n",
       "    </tr>\n",
       "    <tr>\n",
       "      <th>1999-11-02</th>\n",
       "      <td>78.00</td>\n",
       "      <td>81.69</td>\n",
       "      <td>77.31</td>\n",
       "      <td>80.25</td>\n",
       "      <td>3564600</td>\n",
       "    </tr>\n",
       "    <tr>\n",
       "      <th>1999-11-03</th>\n",
       "      <td>81.62</td>\n",
       "      <td>83.25</td>\n",
       "      <td>81.00</td>\n",
       "      <td>81.50</td>\n",
       "      <td>2932700</td>\n",
       "    </tr>\n",
       "    <tr>\n",
       "      <th>1999-11-04</th>\n",
       "      <td>82.06</td>\n",
       "      <td>85.37</td>\n",
       "      <td>80.62</td>\n",
       "      <td>83.62</td>\n",
       "      <td>3384700</td>\n",
       "    </tr>\n",
       "    <tr>\n",
       "      <th>1999-11-05</th>\n",
       "      <td>84.62</td>\n",
       "      <td>88.37</td>\n",
       "      <td>84.00</td>\n",
       "      <td>88.31</td>\n",
       "      <td>3721500</td>\n",
       "    </tr>\n",
       "    <tr>\n",
       "      <th>1999-11-08</th>\n",
       "      <td>87.75</td>\n",
       "      <td>97.73</td>\n",
       "      <td>86.75</td>\n",
       "      <td>96.37</td>\n",
       "      <td>8490400</td>\n",
       "    </tr>\n",
       "    <tr>\n",
       "      <th>1999-11-09</th>\n",
       "      <td>94.37</td>\n",
       "      <td>94.50</td>\n",
       "      <td>88.00</td>\n",
       "      <td>89.62</td>\n",
       "      <td>7224800</td>\n",
       "    </tr>\n",
       "  </tbody>\n",
       "</table>\n",
       "</div>"
      ],
      "text/plain": [
       "             open   high    low  close   volume\n",
       "timestamp                                      \n",
       "1999-11-01  80.00  80.69  77.37  77.62  2487300\n",
       "1999-11-02  78.00  81.69  77.31  80.25  3564600\n",
       "1999-11-03  81.62  83.25  81.00  81.50  2932700\n",
       "1999-11-04  82.06  85.37  80.62  83.62  3384700\n",
       "1999-11-05  84.62  88.37  84.00  88.31  3721500\n",
       "1999-11-08  87.75  97.73  86.75  96.37  8490400\n",
       "1999-11-09  94.37  94.50  88.00  89.62  7224800"
      ]
     },
     "execution_count": 7,
     "metadata": {},
     "output_type": "execute_result"
    }
   ],
   "source": [
    "stock_data['timestamp'] = pd.to_datetime(stock_data['timestamp'])\n",
    "stock_data.set_index('timestamp', inplace=True)\n",
    "stock_data.sort_index(inplace=True)\n",
    "\n",
    "stock_data.head(7)"
   ]
  },
  {
   "cell_type": "code",
   "execution_count": 8,
   "id": "d33eccd7",
   "metadata": {},
   "outputs": [],
   "source": [
    "metric = stock_data[['close']]"
   ]
  },
  {
   "cell_type": "code",
   "execution_count": 9,
   "id": "1560d1d2",
   "metadata": {},
   "outputs": [],
   "source": [
    "from sklearn.preprocessing import MinMaxScaler\n",
    "\n",
    "scaler = MinMaxScaler(feature_range=(0, 1))\n",
    "scaled_data = scaler.fit_transform(metric)"
   ]
  },
  {
   "cell_type": "code",
   "execution_count": 10,
   "id": "4adf1dd6",
   "metadata": {},
   "outputs": [],
   "source": [
    "def create_sequences(data, seq_length):\n",
    "    X = list() \n",
    "    y = list()\n",
    "    for i in range(seq_length, len(data)):\n",
    "        X.append(data[i-seq_length:i, 0])\n",
    "        y.append(data[i, 0])\n",
    "    return np.array(X), np.array(y)"
   ]
  },
  {
   "cell_type": "code",
   "execution_count": 11,
   "id": "8da9a586",
   "metadata": {},
   "outputs": [],
   "source": [
    "seq_length = 60\n",
    "X, y = create_sequences(scaled_data, seq_length)"
   ]
  },
  {
   "cell_type": "code",
   "execution_count": 12,
   "id": "391a7d63",
   "metadata": {},
   "outputs": [],
   "source": [
    "train_size = int(len(X) * 0.8)\n",
    "X_train, X_test = X[:train_size], X[train_size:]\n",
    "y_train, y_test = y[:train_size], y[train_size:]"
   ]
  },
  {
   "cell_type": "code",
   "execution_count": 13,
   "id": "a8a3142a",
   "metadata": {},
   "outputs": [
    {
     "name": "stdout",
     "output_type": "stream",
     "text": [
      "(4974, 60, 1) (4974,) (1244, 60, 1) (1244,)\n"
     ]
    }
   ],
   "source": [
    "X_train = X_train.reshape((X_train.shape[0], X_train.shape[1], 1))\n",
    "X_test = X_test.reshape((X_test.shape[0], X_test.shape[1], 1))\n",
    "\n",
    "print(X_train.shape, y_train.shape, X_test.shape, y_test.shape)"
   ]
  },
  {
   "cell_type": "code",
   "execution_count": 14,
   "id": "8b25ceb4",
   "metadata": {},
   "outputs": [],
   "source": [
    "import torch.nn as nn\n",
    "import torch.optim as optim"
   ]
  },
  {
   "cell_type": "code",
   "execution_count": null,
   "id": "a1ae7fb8",
   "metadata": {},
   "outputs": [],
   "source": []
  }
 ],
 "metadata": {
  "kernelspec": {
   "display_name": "Python 3 (ipykernel)",
   "language": "python",
   "name": "python3"
  },
  "language_info": {
   "codemirror_mode": {
    "name": "ipython",
    "version": 3
   },
   "file_extension": ".py",
   "mimetype": "text/x-python",
   "name": "python",
   "nbconvert_exporter": "python",
   "pygments_lexer": "ipython3",
   "version": "3.11.5"
  }
 },
 "nbformat": 4,
 "nbformat_minor": 5
}
